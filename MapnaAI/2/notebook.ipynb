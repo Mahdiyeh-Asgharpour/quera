{
 "cells": [
  {
   "cell_type": "markdown",
   "metadata": {},
   "source": [
    "<h1 align=center style=\"line-height:200%;font-family:vazir;color:#0099cc\">\n",
    "<font face=\"vazir\" color=\"#0099cc\">\n",
    "عیب یابی</font>\n",
    "</h1>"
   ]
  },
  {
   "cell_type": "markdown",
   "metadata": {},
   "source": [
    "<h2 dir=rtl align=right style=\"line-height:200%;font-family:vazir;color:#0099cc\">\n",
    "<font face=\"vazir\" color=\"#0099cc\">\n",
    "معرفی مجموعه داده\n",
    "</font>\n",
    "</h2>\n",
    "\n",
    "\n",
    "<p dir=rtl style=\"direction: rtl; text-align: justify; line-height:200%; font-family:vazir; font-size:medium\">\n",
    "<font face=\"vazir\" size=3>\n",
    "\n",
    "</font>\n",
    "</p>\n"
   ]
  },
  {
   "cell_type": "markdown",
   "metadata": {},
   "source": [
    "<p dir=rtl style=\"direction: rtl; text-align: justify; line-height:200%; font-family:vazir; font-size:medium\">\n",
    "<font face=\"vazir\" size=3>\n",
    "در این قسمت کتاب‌خانه‌ها و ابزار مورد نیاز خود را \n",
    "<code>import</code>\n",
    " کنید \n",
    " و\n",
    "  فایل داده‌ها را که در پوشه‌ی \n",
    "  <code>Data</code>\n",
    "ذخیره‌شده‌اند را بخوانید و وارد محیط کار خود کنید.\n",
    "</font>\n",
    "</p>"
   ]
  },
  {
   "cell_type": "code",
   "execution_count": 11,
   "metadata": {},
   "outputs": [],
   "source": [
    "# TODO:\n",
    "import pandas as pd\n",
    "import numpy as np\n",
    "temp_train = pd.read_csv(\"Train/Temperature_C_train.csv\", parse_dates=[\"timestamp\"])\n",
    "press_train = pd.read_csv(\"Train/Pressure_kPa_train.csv\", parse_dates=[\"timestamp\"])\n",
    "vibacc_train = pd.read_csv(\"Train/VibAccel_m_s2_train.csv\", parse_dates=[\"timestamp\"])\n",
    "vibvel_train = pd.read_csv(\"Train/VibVelocity_mm_s_train.csv\", parse_dates=[\"timestamp\"])\n",
    "temp_test = pd.read_csv(\"Test/Temperature_C_test.csv\", parse_dates=[\"timestamp\"])\n",
    "press_test = pd.read_csv(\"Test/Pressure_kPa_test.csv\", parse_dates=[\"timestamp\"])\n",
    "vibacc_test = pd.read_csv(\"Test/VibAccel_m_s2_test.csv\", parse_dates=[\"timestamp\"])\n",
    "vibvel_test = pd.read_csv(\"Test/VibVelocity_mm_s_test.csv\", parse_dates=[\"timestamp\"])\n"
   ]
  },
  {
   "cell_type": "markdown",
   "metadata": {},
   "source": [
    "<h2 dir=rtl align=right style=\"line-height:200%;font-family:vazir;color:#0099cc\">\n",
    "<font face=\"vazir\" color=\"#0099cc\">\n",
    "پیش‌پردازش و مهندسی ویژگی\n",
    "</font>\n",
    "</h2>\n",
    "\n",
    "<p dir=rtl style=\"direction: rtl; text-align: justify; line-height:200%; font-family:vazir; font-size:medium\">\n",
    "<font face=\"vazir\" size=3>\n",
    "        در این سوال شما می‌توانید از هر تکنیک پیش‌پردازش/مهندسی ویژگی دلخواهتان، استفاده کنید.\n",
    "    <br>\n",
    "    تکنیک‌هایی که استفاده می‌کنید به شکل مستقیم مورد ارزیابی توسط سامانه داوری قرار <b>نمی‌گیرند.</b> بلکه همه آن‌ها در دقت مدل شما تاثیر خواهند گذاشت؛ بنابراین هر چه پیش‌پردازش/مهندسی ویژگی بهتری انجام دهید تا دقت مدل بهبود پیدا کند، امتیاز بیشتری از این سوال کسب خواهید کرد.\n",
    "    در این قسمت شما می‌توانید بخشی از داده‌ی موجود را برای اعتبارسنجی در نظر بگیرید.\n",
    "</font>\n",
    "</p>"
   ]
  },
  {
   "cell_type": "code",
   "execution_count": 12,
   "metadata": {},
   "outputs": [
    {
     "name": "stdout",
     "output_type": "stream",
     "text": [
      "Train shape: (85680, 12) Validation shape: (21420, 12) Test shape: (45900, 12)\n"
     ]
    },
    {
     "name": "stderr",
     "output_type": "stream",
     "text": [
      "C:\\Users\\Mahdie\\AppData\\Local\\Temp\\ipykernel_11876\\892162991.py:10: FutureWarning: DataFrame.interpolate with object dtype is deprecated and will raise in a future version. Call obj.infer_objects(copy=False) before interpolating instead.\n",
      "  train = train.interpolate(method=\"linear\")\n"
     ]
    }
   ],
   "source": [
    "# TODO:\n",
    "train = temp_train.merge(press_train, on=\"timestamp\", how=\"outer\")\n",
    "train = train.merge(vibacc_train, on=\"timestamp\", how=\"outer\")\n",
    "train = train.merge(vibvel_train, on=\"timestamp\", how=\"outer\")\n",
    "test = temp_test.merge(press_test, on=\"timestamp\", how=\"outer\")\n",
    "test = test.merge(vibacc_test, on=\"timestamp\", how=\"outer\")\n",
    "test = test.merge(vibvel_test, on=\"timestamp\", how=\"outer\")\n",
    "train = train.sort_values(\"timestamp\").reset_index(drop=True)\n",
    "test = test.sort_values(\"timestamp\").reset_index(drop=True)\n",
    "train = train.interpolate(method=\"linear\")\n",
    "test = test.interpolate(method=\"linear\")\n",
    "y = train[\"faulted\"].astype(\"category\").cat.codes  # normal=0, faulted=1\n",
    "X = train.drop(columns=[\"faulted\", \"timestamp\"])\n",
    "X_test = test.drop(columns=[\"timestamp\"])\n",
    "for col in [\"Temperature_C\", \"Pressure_kPa\", \"VibAccel_m_s2\", \"VibVelocity_mm_s\"]:\n",
    "    X[col+\"_roll_mean\"] = X[col].rolling(window=5, min_periods=1).mean()\n",
    "    X[col+\"_roll_std\"]  = X[col].rolling(window=5, min_periods=1).std().fillna(0)\n",
    "    X_test[col+\"_roll_mean\"] = X_test[col].rolling(window=5, min_periods=1).mean()\n",
    "    X_test[col+\"_roll_std\"]  = X_test[col].rolling(window=5, min_periods=1).std().fillna(0)\n",
    "from sklearn.model_selection import train_test_split\n",
    "X_train, X_val, y_train, y_val = train_test_split(\n",
    "    X, y, test_size=0.2, random_state=42, stratify=y\n",
    ")\n",
    "print(\"Train shape:\", X_train.shape, \"Validation shape:\", X_val.shape, \"Test shape:\", X_test.shape)\n"
   ]
  },
  {
   "cell_type": "markdown",
   "metadata": {},
   "source": [
    "<h2 dir=rtl align=right style=\"line-height:200%;font-family:vazir;color:#0099cc\">\n",
    "<font face=\"vazir\" color=\"#0099cc\">\n",
    "آموزش مدل\n",
    "</font>\n",
    "</h2>\n",
    "\n"
   ]
  },
  {
   "cell_type": "code",
   "execution_count": 13,
   "metadata": {},
   "outputs": [
    {
     "name": "stdout",
     "output_type": "stream",
     "text": [
      "Unique labels before mapping: ['faulted' 'normal']\n"
     ]
    },
    {
     "name": "stderr",
     "output_type": "stream",
     "text": [
      "c:\\Users\\Mahdie\\AppData\\Local\\Programs\\Python\\Python312\\Lib\\site-packages\\xgboost\\core.py:158: UserWarning: [16:18:17] WARNING: C:\\buildkite-agent\\builds\\buildkite-windows-cpu-autoscaling-group-i-0015a694724fa8361-1\\xgboost\\xgboost-ci-windows\\src\\learner.cc:740: \n",
      "Parameters: { \"use_label_encoder\" } are not used.\n",
      "\n",
      "  warnings.warn(smsg, UserWarning)\n"
     ]
    }
   ],
   "source": [
    "from xgboost import XGBClassifier\n",
    "labels = train[\"faulted\"].dropna().unique()\n",
    "print(\"Unique labels before mapping:\", labels)\n",
    "label_map = {\"normal\": 0, \"faulted\": 1}\n",
    "y = train[\"faulted\"].map(label_map)\n",
    "mask = y.notna()\n",
    "X_clean = X.loc[mask]\n",
    "y_clean = y.loc[mask]\n",
    "from sklearn.model_selection import train_test_split\n",
    "X_train, X_val, y_train, y_val = train_test_split(\n",
    "    X_clean, y_clean, test_size=0.2, random_state=42, stratify=y_clean\n",
    ")\n",
    "clf = XGBClassifier(\n",
    "    n_estimators=500,\n",
    "    learning_rate=0.05,\n",
    "    max_depth=8,\n",
    "    subsample=0.8,\n",
    "    colsample_bytree=0.8,\n",
    "    eval_metric=\"logloss\",\n",
    "    random_state=42,\n",
    "    n_jobs=-1,\n",
    "    use_label_encoder=False\n",
    ")\n",
    "clf.fit(X_train, y_train)\n",
    "y_val_pred = clf.predict(X_val)\n"
   ]
  },
  {
   "cell_type": "markdown",
   "metadata": {},
   "source": [
    "<h2 dir=rtl align=right style=\"line-height:200%;font-family:vazir;color:#0099cc\">\n",
    "<font face=\"vazir\" color=\"#0099cc\">\n",
    "معیار ارزیابی\n",
    "</font>\n",
    "</h2>\n",
    "\n"
   ]
  },
  {
   "cell_type": "code",
   "execution_count": 14,
   "metadata": {},
   "outputs": [
    {
     "name": "stdout",
     "output_type": "stream",
     "text": [
      "              precision    recall  f1-score   support\n",
      "\n",
      "      normal       0.96      0.97      0.97      1196\n",
      "     faulted       0.96      0.95      0.96       946\n",
      "\n",
      "    accuracy                           0.96      2142\n",
      "   macro avg       0.96      0.96      0.96      2142\n",
      "weighted avg       0.96      0.96      0.96      2142\n",
      "\n",
      "Macro-F1: 0.9606488710892289\n"
     ]
    }
   ],
   "source": [
    "from sklearn.metrics import f1_score\n",
    "\n",
    "# TODO:\n",
    "from sklearn.metrics import classification_report\n",
    "y_val_pred = clf.predict(X_val)\n",
    "print(classification_report(y_val, y_val_pred, target_names=[\"normal\", \"faulted\"]))\n",
    "macro_f1 = f1_score(y_val, y_val_pred, average=\"macro\")\n",
    "print(\"Macro-F1:\", macro_f1)\n"
   ]
  },
  {
   "cell_type": "markdown",
   "metadata": {},
   "source": [
    "<h2 dir=rtl align=right style=\"line-height:200%;font-family:vazir;color:#0099cc\">\n",
    "<font face=\"vazir\" color=\"#0099cc\">\n",
    " پیش‌بینی برای داده تست و خروجی\n",
    "</font>\n",
    "</h2>\n"
   ]
  },
  {
   "cell_type": "code",
   "execution_count": 15,
   "metadata": {},
   "outputs": [
    {
     "name": "stdout",
     "output_type": "stream",
     "text": [
      "Submission size: (4590, 1)\n"
     ]
    }
   ],
   "source": [
    "# TODO:\n",
    "\n",
    "# submission = None\n",
    "vibacc_test = pd.read_csv(\"Test/VibAccel_m_s2_test.csv\", parse_dates=[\"timestamp\"])\n",
    "X_test_final = X_test.loc[vibacc_test.index]\n",
    "y_test_pred = clf.predict(X_test_final)\n",
    "inv_map = {0: \"normal\", 1: \"faulted\"}\n",
    "submission = pd.DataFrame({\"prediction\": pd.Series(y_test_pred).map(inv_map)})\n",
    "submission.to_csv(\"submission.csv\", index=False)\n",
    "print(\"Submission size:\", submission.shape)  # باید 4590 باشه\n"
   ]
  },
  {
   "cell_type": "markdown",
   "metadata": {},
   "source": [
    "<h2 dir=rtl align=right style=\"line-height:200%;font-family:vazir;color:#0099cc\">\n",
    "<font face=\"vazir\" color=\"#0099cc\">\n",
    "<b>سلول جواب‌ساز</b>\n",
    "</font>\n",
    "</h2>\n",
    "\n",
    "<p dir=rtl style=\"direction: rtl; text-align: justify; line-height:200%; font-family:vazir; font-size:medium\">\n",
    "<font face=\"vazir\" size=3>\n",
    "    برای ساخته‌شدن فایل <code>result.zip</code> سلول زیر را اجرا کنید. توجه داشته باشید که پیش از اجرای سلول زیر تغییرات اعمال شده در نت‌بوک را ذخیره کرده باشید (<code>ctrl+s</code>) در غیر این صورت، در پایان مسابقه نمره شما به صفر تغییر خواهد کرد.\n",
    "    <br>\n",
    "    همچنین اگر از کولب برای اجرای این فایل نوت‌بوک استفاده می‌کنید، قبل از ارسال فایل <code>result.zip</code>، آخرین نسخه‌ی نوت‌بوک خود را دانلود کرده و داخل فایل ارسالی قرار دهید.\n",
    "</font>"
   ]
  },
  {
   "cell_type": "code",
   "execution_count": 16,
   "metadata": {},
   "outputs": [
    {
     "name": "stdout",
     "output_type": "stream",
     "text": [
      "File Paths:\n",
      "['notebook.ipynb', 'submission.csv']\n"
     ]
    }
   ],
   "source": [
    "import zipfile\n",
    "import joblib\n",
    "import os\n",
    "\n",
    "if not os.path.exists(os.path.join(os.getcwd(), 'notebook.ipynb')):\n",
    "    %notebook -e notebook.ipynb\n",
    "\n",
    "def compress(file_names):\n",
    "    print(\"File Paths:\")\n",
    "    print(file_names)\n",
    "    compression = zipfile.ZIP_DEFLATED\n",
    "    with zipfile.ZipFile(\"result.zip\", mode=\"w\") as zf:\n",
    "        for file_name in file_names:\n",
    "            zf.write('./' + file_name, file_name, compress_type=compression)\n",
    "\n",
    "submission.to_csv('submission.csv', index=False)\n",
    "file_names = ['notebook.ipynb', 'submission.csv']\n",
    "compress(file_names)"
   ]
  }
 ],
 "metadata": {
  "kernelspec": {
   "display_name": "Python 3",
   "language": "python",
   "name": "python3"
  },
  "language_info": {
   "codemirror_mode": {
    "name": "ipython",
    "version": 3
   },
   "file_extension": ".py",
   "mimetype": "text/x-python",
   "name": "python",
   "nbconvert_exporter": "python",
   "pygments_lexer": "ipython3",
   "version": "3.12.4"
  }
 },
 "nbformat": 4,
 "nbformat_minor": 2
}
