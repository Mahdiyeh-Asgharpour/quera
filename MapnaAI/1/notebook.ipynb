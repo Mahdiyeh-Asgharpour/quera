{
 "cells": [
  {
   "cell_type": "markdown",
   "id": "fed57572",
   "metadata": {},
   "source": [
    "<h1 align=center style=\"line-height:200%;font-family:vazir;color:#0099cc\">\n",
    "<font face=\"vazir\" color=\"#0099cc\">\n",
    "تحلیل آماری داده‌ها\n",
    "</font>\n",
    "</h1>"
   ]
  },
  {
   "cell_type": "markdown",
   "id": "02e28657",
   "metadata": {},
   "source": [
    "<p dir=\"rtl\" style=\"direction: rtl; text-align: justify; line-height: 2; font-family: Vazir, sans-serif; font-size: medium;\">\n",
    "  <strong>خروجی نهایی</strong> باید شامل ۳۲ مقدار به شکل یک فایل \n",
    "  <code>submission.csv</code> با ۶ رقم اعشار باشد.\n",
    "  در هر بخش مقدار(های) لازم را در متغیرهای \n",
    "  <code>value_01</code> تا <code>value_32</code> قرار دهید. \n",
    "  در انتها این مقادیر استخراج و ذخیره می‌شوند.\n",
    "</p>\n",
    "\n",
    "<blockquote dir=\"rtl\" style=\"direction: rtl; text-align: justify; font-family: Vazir, sans-serif; font-size: medium; line-height: 2;\">\n",
    "  <strong>یادآوری:</strong> برای تمام محاسبات «وینسور» (Winsorization) روی هر سنسور به صورت مستقل انجام می‌دهیم:  \n",
    "  برای هر سنسور صدک‌های ۱٪ و ۹۹٪ را با \n",
    "  <code>interpolation='linear'</code> محاسبه کرده و سپس با \n",
    "  <code>clip</code> مقادیر را به این بازه محدود می‌کنیم.  \n",
    "  مگر جایی که صراحتاً گفته شده «خام/بدون وینسور». همچنین برای \n",
    "  <code>std</code> از نمونه‌ای (<code>ddof=1</code>) استفاده کنید.\n",
    "</blockquote>\n"
   ]
  },
  {
   "cell_type": "markdown",
   "id": "dfdfd408",
   "metadata": {},
   "source": [
    "<h1 dir=\"rtl\" style=\"direction: rtl; text-align: right; font-family: Vazir, sans-serif; font-size: x-large; line-height: 2;\">\n",
    "  <font face=\"vazir\" color=\"#cc0000ff\">\n",
    "\n",
    "  بارگذاری داده و آماده‌سازی\n",
    "     </font>\n",
    "\n",
    "</h1>\n",
    "\n",
    "<ul dir=\"rtl\" style=\"direction: rtl; text-align: justify; font-family: Vazir, sans-serif; font-size: medium; line-height: 2;\">\n",
    "  <li>خواندن <code>sample.csv</code></li>\n",
    "  <li>تبدیل <code>timestamp</code> به نوع زمانی</li>\n",
    "  <li>تعریف تابع وینسور و نگهداشت نسخهٔ وینسورشدهٔ هر سنسور</li>\n",
    "</ul>\n"
   ]
  },
  {
   "cell_type": "code",
   "execution_count": 5,
   "id": "a7551a0a",
   "metadata": {},
   "outputs": [],
   "source": [
    "import pandas as pd\n",
    "import numpy as np\n",
    "\n",
    "df = pd.read_csv('statistical_analysis_data.csv')\n",
    "df['timestamp'] = pd.to_datetime(df['timestamp'], errors='coerce')\n",
    "\n",
    "SENSORS = ['Temperature_C','Pressure_kPa','VibAccel_m_s2','VibVelocity_mm_s']\n",
    "\n",
    "def winsorize(s: pd.Series) -> pd.Series:\n",
    "    q1 = s.quantile(0.01, interpolation='linear')\n",
    "    q99 = s.quantile(0.99, interpolation='linear')\n",
    "    return s.clip(lower=q1, upper=q99)\n",
    "\n",
    "wdf = df.copy()\n",
    "for c in SENSORS:\n",
    "    wdf[c] = winsorize(wdf[c])\n"
   ]
  },
  {
   "cell_type": "markdown",
   "id": "ab3e3b48",
   "metadata": {},
   "source": [
    "<h1 dir=\"rtl\" style=\"direction: rtl; text-align: right; font-family: Vazir, sans-serif; font-size: x-large; line-height: 2;\">\n",
    "  <font face=\"vazir\" color=\"#cc0000ff\">\n",
    "     مقداردهی اولیهٔ متغیرهای پاسخ\n",
    "  </font>\n",
    "</h1>\n",
    "\n",
    "<p dir=\"rtl\" style=\"direction: rtl; text-align: justify; font-family: Vazir, sans-serif; font-size: medium; line-height: 2;\">\n",
    "  در هر بخش متغیرهای <code>value_XX</code> را <strong>جایگزین/محاسبه</strong> کنید.\n",
    "</p>\n"
   ]
  },
  {
   "cell_type": "code",
   "execution_count": 6,
   "id": "287f1b25",
   "metadata": {},
   "outputs": [
    {
     "name": "stdout",
     "output_type": "stream",
     "text": [
      "value_01 = 60.461174\n",
      "value_02 = 379.910424\n",
      "value_03 = 27.760443\n",
      "value_04 = 11.158711\n",
      "value_05 = 4.007353\n",
      "value_06 = 22.164835\n",
      "value_07 = 2.256038\n",
      "value_08 = 0.907363\n",
      "value_09 = 48.764694\n",
      "value_10 = 71.078922\n",
      "value_11 = 317.801444\n",
      "value_12 = 443.569038\n",
      "value_13 = 21.417980\n",
      "value_14 = 32.335506\n",
      "value_15 = 8.618879\n",
      "value_16 = 13.738213\n",
      "value_17 = 0.579941\n",
      "value_18 = 0.585990\n",
      "value_19 = 0.592605\n",
      "value_20 = 0.590642\n",
      "value_21 = 0.555453\n",
      "value_22 = 0.606897\n",
      "value_23 = 60.352357\n",
      "value_24 = 380.443519\n",
      "value_25 = 27.811128\n",
      "value_26 = 11.125979\n",
      "value_27 = 0.584505\n",
      "value_28 = 0.784628\n",
      "value_29 = 0.961333\n",
      "value_30 = 0.906427\n",
      "value_31 = 0.088000\n",
      "value_32 = 1.000000\n"
     ]
    }
   ],
   "source": [
    "df_ = df.head(1000).copy()\n",
    "wdf_ = wdf.head(1000).copy()\n",
    "raw = df_[SENSORS]\n",
    "wins = wdf_[SENSORS]\n",
    "r6 = lambda x: float(np.round(x, 6))\n",
    "m = wins.mean()\n",
    "s = wins.std(ddof=1)\n",
    "mn = raw.min(); mx = raw.max()\n",
    "pairs = [\n",
    "    (\"Temperature_C\",\"Pressure_kPa\"),\n",
    "    (\"Temperature_C\",\"VibAccel_m_s2\"),\n",
    "    (\"Temperature_C\",\"VibVelocity_mm_s\"),\n",
    "    (\"Pressure_kPa\",\"VibAccel_m_s2\"),\n",
    "    (\"Pressure_kPa\",\"VibVelocity_mm_s\"),\n",
    "    (\"VibAccel_m_s2\",\"VibVelocity_mm_s\"),\n",
    "]\n",
    "corrs = [wins[a].corr(wins[b]) for a,b in pairs]\n",
    "med = wins.median()\n",
    "ac = [wins[c].autocorr(lag=1) for c in SENSORS]\n",
    "nan_rate = raw.isna().any(axis=1).mean()\n",
    "msi = df_[\"timestamp\"].sort_values().diff().dt.total_seconds().median()\n",
    "value_01 = r6(m[\"Temperature_C\"])\n",
    "value_02 = r6(m[\"Pressure_kPa\"])\n",
    "value_03 = r6(m[\"VibAccel_m_s2\"])\n",
    "value_04 = r6(m[\"VibVelocity_mm_s\"])\n",
    "value_05 = r6(s[\"Temperature_C\"])\n",
    "value_06 = r6(s[\"Pressure_kPa\"])\n",
    "value_07 = r6(s[\"VibAccel_m_s2\"])\n",
    "value_08 = r6(s[\"VibVelocity_mm_s\"])\n",
    "value_09  = r6(mn[\"Temperature_C\"])\n",
    "value_10  = r6(mx[\"Temperature_C\"])\n",
    "value_11  = r6(mn[\"Pressure_kPa\"])\n",
    "value_12  = r6(mx[\"Pressure_kPa\"])\n",
    "value_13  = r6(mn[\"VibAccel_m_s2\"])\n",
    "value_14  = r6(mx[\"VibAccel_m_s2\"])\n",
    "value_15  = r6(mn[\"VibVelocity_mm_s\"])\n",
    "value_16  = r6(mx[\"VibVelocity_mm_s\"])\n",
    "value_17 = r6(corrs[0])\n",
    "value_18 = r6(corrs[1])\n",
    "value_19 = r6(corrs[2])\n",
    "value_20 = r6(corrs[3])\n",
    "value_21 = r6(corrs[4])\n",
    "value_22 = r6(corrs[5])\n",
    "value_23 = r6(med[\"Temperature_C\"])\n",
    "value_24 = r6(med[\"Pressure_kPa\"])\n",
    "value_25 = r6(med[\"VibAccel_m_s2\"])\n",
    "value_26 = r6(med[\"VibVelocity_mm_s\"])\n",
    "value_27 = r6(ac[0])\n",
    "value_28 = r6(ac[1])\n",
    "value_29 = r6(ac[2])\n",
    "value_30 = r6(ac[3])\n",
    "value_31 = r6(nan_rate)\n",
    "value_32 = r6(msi)\n",
    "for i in range(1, 33):\n",
    "    print(f\"value_{i:02d} = {eval(f'value_{i:02d}'):.6f}\")\n"
   ]
  },
  {
   "cell_type": "markdown",
   "id": "b2bfcf93",
   "metadata": {},
   "source": [
    "<h1 dir=\"rtl\" style=\"direction: rtl; text-align: right; font-family: Vazir, sans-serif; font-size: x-large; line-height: 2;\">\n",
    "  <font face=\"vazir\" color=\"#cc0000ff\">\n",
    "    میانگین و انحراف معیار (وینسورشده)\n",
    "  </font>\n",
    "</h1>\n",
    "\n",
    "<ul dir=\"rtl\" style=\"direction: rtl; text-align: justify; font-family: Vazir, sans-serif; font-size: medium; line-height: 2;\">\n",
    "  <li>مقادیر <strong>۱–۴</strong>: میانگین هر سنسور (به ترتیب: دما، فشار، شتاب ارتعاش، سرعت ارتعاش)</li>\n",
    "  <li>مقادیر <strong>۵–۸</strong>: انحراف معیار نمونه‌ای (<code>ddof=1</code>) به همان ترتیب</li>\n",
    "</ul>\n"
   ]
  },
  {
   "cell_type": "code",
   "execution_count": 7,
   "id": "1967fbe9",
   "metadata": {},
   "outputs": [
    {
     "name": "stdout",
     "output_type": "stream",
     "text": [
      "value_01 = 60.461174\n",
      "value_02 = 379.910424\n",
      "value_03 = 27.760443\n",
      "value_04 = 11.158711\n",
      "value_05 = 4.007353\n",
      "value_06 = 22.164835\n",
      "value_07 = 2.256038\n",
      "value_08 = 0.907363\n"
     ]
    }
   ],
   "source": [
    "# TODO: value_01 .. value_04 (means), value_05 .. value_08 (stds with ddof=1)\n",
    "wins = wdf[SENSORS].head(1000) \n",
    "r6 = lambda x: float(np.round(x, 6))\n",
    "value_01 = r6(wins[\"Temperature_C\"].mean())\n",
    "value_02 = r6(wins[\"Pressure_kPa\"].mean())\n",
    "value_03 = r6(wins[\"VibAccel_m_s2\"].mean())\n",
    "value_04 = r6(wins[\"VibVelocity_mm_s\"].mean())\n",
    "value_05 = r6(wins[\"Temperature_C\"].std(ddof=1))\n",
    "value_06 = r6(wins[\"Pressure_kPa\"].std(ddof=1))\n",
    "value_07 = r6(wins[\"VibAccel_m_s2\"].std(ddof=1))\n",
    "value_08 = r6(wins[\"VibVelocity_mm_s\"].std(ddof=1))\n",
    "for i in range(1, 9):\n",
    "    print(f\"value_{i:02d} = {eval(f'value_{i:02d}'):.6f}\")\n"
   ]
  },
  {
   "cell_type": "markdown",
   "id": "6b7a73b2",
   "metadata": {},
   "source": [
    "<h1 dir=\"rtl\" style=\"direction: rtl; text-align: right; font-family: Vazir, sans-serif; font-size: x-large; line-height: 2;\">\n",
    "  <font face=\"vazir\" color=\"#cc0000ff\">\n",
    "     کمینه و بیشینهٔ خام (بدون وینسور)\n",
    "  </font>\n",
    "</h1>\n",
    "\n",
    "<ul dir=\"rtl\" style=\"direction: rtl; text-align: justify; font-family: Vazir, sans-serif; font-size: medium; line-height: 2;\">\n",
    "  <li>مقادیر <strong>۹–۱۶</strong>: به ترتیب <code>(min, max)</code> برای هر سنسور (دما، فشار، شتاب، سرعت)</li>\n",
    "</ul>\n"
   ]
  },
  {
   "cell_type": "code",
   "execution_count": 8,
   "id": "70ed26c7",
   "metadata": {},
   "outputs": [
    {
     "name": "stdout",
     "output_type": "stream",
     "text": [
      "value_09 = 48.764694\n",
      "value_10 = 71.078922\n",
      "value_11 = 317.801444\n",
      "value_12 = 443.569038\n",
      "value_13 = 21.417980\n",
      "value_14 = 32.335506\n",
      "value_15 = 8.618879\n",
      "value_16 = 13.738213\n"
     ]
    }
   ],
   "source": [
    "# TODO: value_09 .. value_16\n",
    "raw = df[SENSORS].head(1000)\n",
    "r6 = lambda x: float(np.round(x, 6))\n",
    "value_09  = r6(raw[\"Temperature_C\"].min())\n",
    "value_10  = r6(raw[\"Temperature_C\"].max())\n",
    "value_11  = r6(raw[\"Pressure_kPa\"].min())\n",
    "value_12  = r6(raw[\"Pressure_kPa\"].max())\n",
    "value_13  = r6(raw[\"VibAccel_m_s2\"].min())\n",
    "value_14  = r6(raw[\"VibAccel_m_s2\"].max())\n",
    "value_15  = r6(raw[\"VibVelocity_mm_s\"].min())\n",
    "value_16  = r6(raw[\"VibVelocity_mm_s\"].max())\n",
    "for i in range(9, 17):\n",
    "    print(f\"value_{i:02d} = {eval(f'value_{i:02d}'):.6f}\")"
   ]
  },
  {
   "cell_type": "markdown",
   "id": "54e237a4",
   "metadata": {},
   "source": [
    "<h1 dir=\"rtl\" style=\"direction: rtl; text-align: right; font-family: Vazir, sans-serif; font-size: x-large; line-height: 2;\">\n",
    "  <font face=\"vazir\" color=\"#cc0000ff\">\n",
    "    همبستگی پیرسون (وینسورشده، pairwise dropna)\n",
    "  </font>\n",
    "</h1>\n",
    "\n",
    "<p dir=\"rtl\" style=\"direction: rtl; text-align: justify; font-family: Vazir, sans-serif; font-size: medium; line-height: 2;\">\n",
    "  مقادیر <strong>۱۷–۲۲</strong>: به ترتیب جفت‌ها\n",
    "</p>\n",
    "\n",
    "<ol dir=\"rtl\" style=\"direction: rtl; text-align: justify; font-family: Vazir, sans-serif; font-size: medium; line-height: 2;\">\n",
    "  <li><code>(Temperature_C, Pressure_kPa)</code></li>\n",
    "  <li><code>(Temperature_C, VibAccel_m_s2)</code></li>\n",
    "  <li><code>(Temperature_C, VibVelocity_mm_s)</code></li>\n",
    "  <li><code>(Pressure_kPa, VibAccel_m_s2)</code></li>\n",
    "  <li><code>(Pressure_kPa, VibVelocity_mm_s)</code></li>\n",
    "  <li><code>(VibAccel_m_s2, VibVelocity_mm_s)</code></li>\n",
    "</ol>\n"
   ]
  },
  {
   "cell_type": "code",
   "execution_count": 9,
   "id": "fa440aa4",
   "metadata": {},
   "outputs": [
    {
     "name": "stdout",
     "output_type": "stream",
     "text": [
      "value_17 = 0.579941\n",
      "value_18 = 0.585990\n",
      "value_19 = 0.592605\n",
      "value_20 = 0.590642\n",
      "value_21 = 0.555453\n",
      "value_22 = 0.606897\n"
     ]
    }
   ],
   "source": [
    "# TODO: value_17 .. value_22\n",
    "wins = wdf[SENSORS].head(1000)\n",
    "r6 = lambda x: float(np.round(x, 6))\n",
    "value_17 = r6(wins[\"Temperature_C\"].corr(wins[\"Pressure_kPa\"]))\n",
    "value_18 = r6(wins[\"Temperature_C\"].corr(wins[\"VibAccel_m_s2\"]))\n",
    "value_19 = r6(wins[\"Temperature_C\"].corr(wins[\"VibVelocity_mm_s\"]))\n",
    "value_20 = r6(wins[\"Pressure_kPa\"].corr(wins[\"VibAccel_m_s2\"]))\n",
    "value_21 = r6(wins[\"Pressure_kPa\"].corr(wins[\"VibVelocity_mm_s\"]))\n",
    "value_22 = r6(wins[\"VibAccel_m_s2\"].corr(wins[\"VibVelocity_mm_s\"]))\n",
    "for i in range(17, 23):\n",
    "    print(f\"value_{i:02d} = {eval(f'value_{i:02d}'):.6f}\")"
   ]
  },
  {
   "cell_type": "markdown",
   "id": "993bd71f",
   "metadata": {},
   "source": [
    "<h1 dir=\"rtl\" style=\"direction: rtl; text-align: right; font-family: Vazir, sans-serif; font-size: x-large; line-height: 2;\">\n",
    "  <font face=\"vazir\" color=\"#cc0000ff\">\n",
    "    میانهٔ هر سنسور (وینسورشده)\n",
    "  </font>\n",
    "</h1>\n",
    "\n",
    "<ul dir=\"rtl\" style=\"direction: rtl; text-align: justify; font-family: Vazir, sans-serif; font-size: medium; line-height: 2;\">\n",
    "  <li>مقادیر <strong>۲۳–۲۶</strong>: میانهٔ سنسورها به ترتیب استاندارد</li>\n",
    "</ul>\n"
   ]
  },
  {
   "cell_type": "code",
   "execution_count": 10,
   "id": "ced9a593",
   "metadata": {},
   "outputs": [
    {
     "name": "stdout",
     "output_type": "stream",
     "text": [
      "value_23 = 60.352357\n",
      "value_24 = 380.443519\n",
      "value_25 = 27.811128\n",
      "value_26 = 11.125979\n"
     ]
    }
   ],
   "source": [
    "# TODO: value_23 .. value_26\n",
    "wins = wdf[SENSORS].head(1000)\n",
    "r6 = lambda x: float(np.round(x, 6))\n",
    "med = wins.median(skipna=True)\n",
    "value_23 = r6(med[\"Temperature_C\"])\n",
    "value_24 = r6(med[\"Pressure_kPa\"])\n",
    "value_25 = r6(med[\"VibAccel_m_s2\"])\n",
    "value_26 = r6(med[\"VibVelocity_mm_s\"])\n",
    "for i in range(23, 27):\n",
    "    print(f\"value_{i:02d} = {eval(f'value_{i:02d}'):.6f}\")\n"
   ]
  },
  {
   "cell_type": "markdown",
   "id": "2e9aa0f2",
   "metadata": {},
   "source": [
    "<h1 dir=\"rtl\" style=\"direction: rtl; text-align: right; font-family: Vazir, sans-serif; font-size: x-large; line-height: 2;\">\n",
    "  <font face=\"vazir\" color=\"#cc0000ff\">\n",
    "    خودهمبستگی با وقفهٔ ۱ (lag=1) روی دادهٔ وینسورشده\n",
    "  </font>\n",
    "</h1>\n",
    "\n",
    "<ul dir=\"rtl\" style=\"direction: rtl; text-align: justify; font-family: Vazir, sans-serif; font-size: medium; line-height: 2;\">\n",
    "  <li>مقادیر <strong>۲۷–۳۰</strong>: به ترتیب برای سنسورها</li>\n",
    "</ul>\n"
   ]
  },
  {
   "cell_type": "code",
   "execution_count": 11,
   "id": "cad9c677",
   "metadata": {},
   "outputs": [
    {
     "name": "stdout",
     "output_type": "stream",
     "text": [
      "value_27 = 0.584505\n",
      "value_28 = 0.784628\n",
      "value_29 = 0.961333\n",
      "value_30 = 0.906427\n"
     ]
    }
   ],
   "source": [
    "# TODO: value_27 .. value_30\n",
    "wins = wdf[SENSORS].head(1000)\n",
    "r6 = lambda x: float(np.round(x, 6))\n",
    "value_27 = r6(wins[\"Temperature_C\"].autocorr(lag=1))\n",
    "value_28 = r6(wins[\"Pressure_kPa\"].autocorr(lag=1))\n",
    "value_29 = r6(wins[\"VibAccel_m_s2\"].autocorr(lag=1))\n",
    "value_30 = r6(wins[\"VibVelocity_mm_s\"].autocorr(lag=1))\n",
    "for i in range(27, 31):\n",
    "    print(f\"value_{i:02d} = {eval(f'value_{i:02d}'):.6f}\")\n"
   ]
  },
  {
   "cell_type": "markdown",
   "id": "cd360a2e",
   "metadata": {},
   "source": [
    "<h1 dir=\"rtl\" style=\"direction: rtl; text-align: right; font-family: Vazir, sans-serif; font-size: x-large; line-height: 2;\">\n",
    "  <font face=\"vazir\" color=\"#cc0000ff\">\n",
    "   نرخ NaN و بازهٔ نمونه‌برداری\n",
    "  </font>\n",
    "</h1>\n",
    "\n",
    "<ul dir=\"rtl\" style=\"direction: rtl; text-align: justify; font-family: Vazir, sans-serif; font-size: medium; line-height: 2;\">\n",
    "  <li>مقدار <strong>۳۱</strong>: سهم ردیف‌هایی که <strong>حداقل یکی</strong> از چهار سنسورشان <code>NaN</code> دارد (روی دادهٔ خام)</li>\n",
    "  <li>مقدار <strong>۳۲</strong>: میانهٔ فاصلهٔ نمونه‌برداری (ثانیه) پس از مرتب‌سازی صعودی زمان‌ها</li>\n",
    "</ul>\n"
   ]
  },
  {
   "cell_type": "code",
   "execution_count": 12,
   "id": "a8d2a0e8",
   "metadata": {},
   "outputs": [
    {
     "name": "stdout",
     "output_type": "stream",
     "text": [
      "value_31 = 0.088000\n",
      "value_32 = 1.000000\n"
     ]
    }
   ],
   "source": [
    "# TODO: value_31 .. value_32\n",
    "raw = df[SENSORS].head(1000)\n",
    "r6 = lambda x: float(np.round(x, 6))\n",
    "value_31 = r6(raw.isna().any(axis=1).mean())\n",
    "dt_seconds = df['timestamp'].head(1000).sort_values().diff().dt.total_seconds()\n",
    "value_32 = r6(dt_seconds.median(skipna=True))\n",
    "print(f\"value_31 = {value_31:.6f}\")\n",
    "print(f\"value_32 = {value_32:.6f}\")\n"
   ]
  },
  {
   "cell_type": "markdown",
   "id": "7f4b0542",
   "metadata": {},
   "source": [
    "<h2 dir=rtl align=right style=\"line-height:200%;font-family:vazir;color:#0099cc\">\n",
    "<font face=\"vazir\" color=\"#0099cc\">\n",
    "<b>سلول جواب‌ساز</b>\n",
    "</font>\n",
    "</h2>\n",
    "\n",
    "<p dir=rtl style=\"direction: rtl; text-align: justify; line-height:200%; font-family:vazir; font-size:medium\">\n",
    "<font face=\"vazir\" size=3>\n",
    "    برای ساخته‌شدن فایل <code>result.zip</code> سلول زیر را اجرا کنید. توجه داشته باشید که پیش از اجرای سلول زیر تغییرات اعمال شده در نت‌بوک را ذخیره کرده باشید (<code>ctrl+s</code>) در غیر این صورت، در پایان مسابقه نمره شما به صفر تغییر خواهد کرد.\n",
    "    <br>\n",
    "    همچنین اگر از کولب برای اجرای این فایل نوت‌بوک استفاده می‌کنید، قبل از ارسال فایل <code>result.zip</code>، آخرین نسخه‌ی نوت‌بوک خود را دانلود کرده و داخل فایل ارسالی قرار دهید.\n",
    "</font>"
   ]
  },
  {
   "cell_type": "code",
   "execution_count": 13,
   "id": "56ad7878",
   "metadata": {},
   "outputs": [
    {
     "name": "stdout",
     "output_type": "stream",
     "text": [
      "File Paths:\n",
      "['notebook.ipynb', 'submission.csv']\n"
     ]
    }
   ],
   "source": [
    "import zipfile\n",
    "import joblib\n",
    "import os\n",
    "\n",
    "if not os.path.exists(os.path.join(os.getcwd(), 'notebook.ipynb')):\n",
    "    %notebook -e notebook.ipynb\n",
    "\n",
    "def compress(file_names):\n",
    "    print(\"File Paths:\")\n",
    "    print(file_names)\n",
    "    compression = zipfile.ZIP_DEFLATED\n",
    "    with zipfile.ZipFile(\"result.zip\", mode=\"w\") as zf:\n",
    "        for file_name in file_names:\n",
    "            zf.write('./' + file_name, file_name, compress_type=compression)\n",
    "\n",
    "answers = [globals()[f'value_{i:02d}'] for i in range(1, 33)]\n",
    "s = pd.Series(answers, dtype='float64', name=\"prediction\")\n",
    "s.to_csv(\"submission.csv\", index=False, float_format=\"%.6f\")\n",
    "\n",
    "file_names = ['notebook.ipynb', 'submission.csv']\n",
    "compress(file_names)"
   ]
  },
  {
   "cell_type": "code",
   "execution_count": null,
   "id": "923f7cf3",
   "metadata": {},
   "outputs": [],
   "source": [
    "\n"
   ]
  }
 ],
 "metadata": {
  "kernelspec": {
   "display_name": "Python 3",
   "language": "python",
   "name": "python3"
  },
  "language_info": {
   "codemirror_mode": {
    "name": "ipython",
    "version": 3
   },
   "file_extension": ".py",
   "mimetype": "text/x-python",
   "name": "python",
   "nbconvert_exporter": "python",
   "pygments_lexer": "ipython3",
   "version": "3.12.4"
  }
 },
 "nbformat": 4,
 "nbformat_minor": 5
}
