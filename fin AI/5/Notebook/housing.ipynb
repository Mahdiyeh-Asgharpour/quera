{
 "cells": [
  {
   "cell_type": "markdown",
   "metadata": {},
   "source": [
    "<h1 align=center style=\"line-height:200%;font-family:vazir;color:#0099cc\">\n",
    "<font face=\"vazir\" color=\"#0099cc\">\n",
    "مشکل مسکن\n",
    "</font>\n",
    "</h1>"
   ]
  },
  {
   "cell_type": "markdown",
   "metadata": {},
   "source": [
    "<h2 dir=rtl align=right style=\"line-height:200%;font-family:vazir;color:#0099cc\">\n",
    "<font face=\"vazir\" color=\"#0099cc\">\n",
    "مقدمه و صورت مسئله\n",
    "</font>\n",
    "</h2>\n",
    "\n",
    "<p dir=rtl style=\"direction: rtl; text-align: justify; line-height:200%; font-family:vazir; font-size:medium\">\n",
    "<font face=\"vazir\" size=3>\n",
    "در این سوال ما به دنبال آموزش یک مدل یادگیری ماشین هستیم که بتوان با کمک آن قیمت مسکن در کشور پهناور ایران را پیش‌بینی کنیم. با استفاده از مجموعه داده‌ای که در اختیار شما قرار گرفته است، به ایجاد و تخمین متغیری به نام <code>Total</code> می‌پردازیم. این متغیر در مجموعه‌داده‌ ما وجود ندارد. در ادامه به نحوه ایجاد و محاسبه‌ی آن پرداخته می‌شود.\n",
    "</font>\n",
    "</p>"
   ]
  },
  {
   "cell_type": "markdown",
   "metadata": {},
   "source": [
    "<h2 dir=rtl align=right style=\"line-height:200%;font-family:vazir;color:#0099cc\">\n",
    "<font face=\"vazir\" color=\"#0099cc\">\n",
    "معرفی مجموعه داده\n",
    "</font>\n",
    "</h2>\n",
    "\n",
    "<p dir=rtl style=\"direction: rtl; text-align: justify; line-height:200%; font-family:vazir; font-size:medium\">\n",
    "<font face=\"vazir\" size=3>\n",
    "در فایل اولیه‌ی این سوال، یک پوشه با نام <code>Data</code> وجود دارد که شامل ۲ فایل <code>train.csv</code> و <code>test.csv</code> وجود دارد. در این بخش به بررسی این ۲ فایل می‌پردازیم.\n",
    "</font>\n",
    "</p>\n",
    "\n",
    "\n",
    "<p dir=rtl style=\"direction: rtl; text-align: justify; line-height:200%; font-family:vazir; font-size:medium\">\n",
    "<font face=\"vazir\" size=3>\n",
    "هرستون این مجموعه‌داده با توجه به ماهیت خود می‌تواند مقادیر عددی یا رشته‌ای داشته باشند. برای آشنایی بیشتر با مجموعه‌داده، پیشنهاد می‌شود هرستون به صورت جداگانه بررسی شود.</font>\n",
    "</p>\n"
   ]
  },
  {
   "cell_type": "markdown",
   "metadata": {},
   "source": [
    "<h4 dir=rtl align=right style=\"line-height:200%;font-family:vazir;color:#0099cc\">\n",
    "<font face=\"vazir\" color=\"#0099cc\">\n",
    "معرفی مجموعه داده آموزشی (train.csv)\n",
    "</font>\n",
    "</h4>\n",
    "\n",
    "<p dir=rtl style=\"direction: rtl; text-align: justify; line-height:200%; font-family:vazir; font-size:medium\">\n",
    "<font face=\"vazir\" size=3>\n",
    "فایل <code>train.csv</code> دارای ۲۰ ستون می‌باشد که ستون‌های آن به شرح زیر می‌باشد:\n",
    "<center>\n",
    "<div dir=rtl style=\"direction: rtl;line-height:200%;font-family:vazir;font-size:medium\">\n",
    "<font face=\"vazir\" size=3>\n",
    "    \n",
    "|ستون|توضیحات|\n",
    "|:------:|:---:|\n",
    "|<code>Area</code>|متراژ خانه‌های به متر مربع|\n",
    "|<code>Year_built</code>|سال ساخت ساختمان|\n",
    "|<code>Rooms</code>|تعداد اتاق‌ها|\n",
    "|<code>Floor</code>|شماره‌ی طبقه‌ی واحد در خانه|\n",
    "|<code>Elevator</code>|وجود آسانسور|\n",
    "|<code>Parking</code>|وجود پارکینگ|\n",
    "|<code>StorageRoom</code>|وجود انباری|\n",
    "|<code>Rent_type</code>|نوع اجاره‌ی خانه|\n",
    "|<code>Units_per_floor</code>|تعداد واحد در هر طبقه|\n",
    "|<code>Building_direction</code>|جهت جغرافیایی ساختمان|\n",
    "|<code>Unit_status</code>|وضعیت بازسازی واحد|\n",
    "|<code>Floor_material</code>|جنس کف‌پوش|\n",
    "|<code>Bathroom</code>|نوع دستشویی واحد|\n",
    "|<code>Balcony</code>|وجود بالکن|\n",
    "|<code>Heating</code>|نوع گرمایش|\n",
    "|<code>Cooling</code>|نوع سرمایش|\n",
    "|<code>Hot_water_provider</code>|نوع گرم‌کن آب|\n",
    "|<code>District</code>|منطقه جغرافیایی در شهر|\n",
    "|<code>City</code>|شهری که واحد مسکونی در آن واقع شده|\n",
    "|<code>Credit</code>|میزان پول پیش برای اجاره‌ی واحد (میلیون تومان)|\n",
    "|<code>Rent</code>|میزان اجاره واحد (میلیون تومان)|\n",
    "\n",
    "</font>\n",
    "</div>\n",
    "</center>"
   ]
  },
  {
   "cell_type": "markdown",
   "metadata": {},
   "source": [
    "<h4 dir=rtl align=right style=\"line-height:200%;font-family:vazir;color:#0099cc\">\n",
    "<font face=\"vazir\" color=\"#0099cc\">\n",
    "معرفی مجموعه داده آزمون (test.csv)\n",
    "</font>\n",
    "</h4>\n",
    "\n",
    "<p dir=rtl style=\"direction: rtl; text-align: justify; line-height:200%; font-family:vazir; font-size:medium\">\n",
    "<font face=\"vazir\" size=3>\n",
    "فایل <code>test.csv</code> دارای ۱۹ ستون می‌باشد که ستون‌های آن به شرح زیر می‌باشد:\n",
    "\n",
    "\n",
    "<center>\n",
    "<div dir=rtl style=\"direction: rtl;line-height:200%;font-family:vazir;font-size:medium\">\n",
    "<font face=\"vazir\" size=3>\n",
    "    \n",
    "|ستون|توضیحات|\n",
    "|:------:|:---:|\n",
    "|<code>Area</code>|متراژ خانه‌های به متر مربع|\n",
    "|<code>Year_built</code>|سال ساخت ساختمان|\n",
    "|<code>Rooms</code>|تعداد اتاق‌ها|\n",
    "|<code>Floor</code>|شماره‌ی طبقه‌ی واحد در خانه|\n",
    "|<code>Elevator</code>|وجود آسانسور|\n",
    "|<code>Parking</code>|وجود پارکینگ|\n",
    "|<code>StorageRoom</code>|وجود انباری|\n",
    "|<code>Rent_type</code>|نوع اجاره‌ی خانه|\n",
    "|<code>Units_per_floor</code>|تعداد واحد در هر طبقه|\n",
    "|<code>Building_direction</code>|جهت جغرافیایی ساختمان|\n",
    "|<code>Unit_status</code>|وضعیت بازسازی واحد|\n",
    "|<code>Floor_material</code>|جنس کف‌پوش|\n",
    "|<code>Bathroom</code>|نوع دستشویی واحد|\n",
    "|<code>Balcony</code>|وجود بالکن|\n",
    "|<code>Heating</code>|نوع گرمایش|\n",
    "|<code>Cooling</code>|نوع سرمایش|\n",
    "|<code>Hot_water_provider</code>|نوع گرم‌کن آب|\n",
    "|<code>District</code>|منطقه جغرافیایی در شهر|\n",
    "|<code>City</code>|شهری که واحد مسکونی در آن واقع شده|\n",
    "\n",
    "</font>\n",
    "</div>\n",
    "</center>\n"
   ]
  },
  {
   "cell_type": "markdown",
   "metadata": {},
   "source": [
    "<p dir=rtl style=\"direction: rtl; text-align: justify; line-height:200%; font-family:vazir; font-size:medium\">\n",
    "<font face=\"vazir\" size=3>\n",
    "در این قسمت کتاب‌خانه‌ها و ابزار مورد نیاز خود را <code>import</code> کنید و فایل داده‌ها را که در پوشه‌ی <code>Data</code> و که با نام‌های <code>train.csv</code> و <code>test.csv</code> ذخیره‌شده‌اند را بخوانید و وارد محیط کار خود کنید.\n",
    "</font>\n",
    "</p>"
   ]
  },
  {
   "cell_type": "code",
   "execution_count": 15,
   "metadata": {},
   "outputs": [],
   "source": [
    "# TODO:\n",
    "import pandas as pd\n",
    "train_df = pd.read_csv('../data/train.csv')\n",
    "test_df = pd.read_csv('../data/test.csv')"
   ]
  },
  {
   "cell_type": "markdown",
   "metadata": {},
   "source": [
    "<h2 dir=rtl align=right style=\"line-height:200%;font-family:vazir;color:#0099cc\">\n",
    "<font face=\"vazir\" color=\"#0099cc\">\n",
    "پیش‌پردازش و مهندسی ویژگی\n",
    "</font>\n",
    "</h2>\n",
    "\n",
    "<p dir=rtl style=\"direction: rtl; text-align: justify; line-height:200%; font-family:vazir; font-size:medium\">\n",
    "<font face=\"vazir\" size=3>\n",
    "        در این سوال شما می‌توانید از هر تکنیک پیش‌پردازش/مهندسی ویژگی دلخواهتان، استفاده کنید.\n",
    "    <br>\n",
    "    تکنیک‌هایی که استفاده می‌کنید به شکل مستقیم مورد ارزیابی توسط سامانه داوری قرار <b>نمی‌گیرند.</b> بلکه همه آن‌ها در دقت مدل شما تاثیر خواهند گذاشت؛ بنابراین هر چه پیش‌پردازش/مهندسی ویژگی بهتری انجام دهید تا دقت مدل بهبود پیدا کند، امتیاز بیشتری از این سوال کسب خواهید کرد.\n",
    "    در این قسمت شما می‌توانید بخشی از داده‌ی موجود را برای اعتبارسنجی در نظر بگیرید.\n",
    "</font>\n",
    "</p>"
   ]
  },
  {
   "cell_type": "code",
   "execution_count": 25,
   "metadata": {},
   "outputs": [],
   "source": [
    "from sklearn.preprocessing import LabelEncoder\n",
    "categorical_cols = train_df.select_dtypes(include=['object']).columns\n",
    "categorical_cols = test_df.select_dtypes(include=['object']).columns\n",
    "for col in categorical_cols:\n",
    "    train_df[col] = LabelEncoder().fit_transform(train_df[col])\n",
    "    test_df[col] = LabelEncoder().fit_transform(test_df[col])"
   ]
  },
  {
   "cell_type": "markdown",
   "metadata": {},
   "source": [
    "<h2 dir=rtl align=right style=\"line-height:200%;font-family:vazir;color:#0099cc\">\n",
    "<font face=\"vazir\" color=\"#0099cc\">\n",
    "ایجاد متغیر هدف\n",
    "</font>\n",
    "</h2>\n",
    "\n",
    "<p dir=rtl style=\"direction: rtl;text-align: justify;line-height:200%;font-family:vazir;font-size:medium\">\n",
    "<font face=\"vazir\" size=3>\n",
    "در این قسمت باید متغیر هدف مسئله را ایجاد کنیم. در این مسئله هدف ما تخمین ارزش خانه‌های مورد نظر است. برای این منظور، با استفاده از فرمول زیر، ستونی با نام <code>Total</code> به مجموعه داده خود اضافه کنید تا مدل یادگیری ماشین خود را منطبق بر آن آموزش دهید.\n",
    "\n",
    "$$ Total = Credit + (Rent * 33.33334)$$\n",
    "\n",
    "</font>\n",
    "</p>"
   ]
  },
  {
   "cell_type": "code",
   "execution_count": 17,
   "metadata": {},
   "outputs": [],
   "source": [
    "# TODO:\n",
    "train_df['Total'] = train_df['Credit'] + (train_df['Rent'] * 33.33334)"
   ]
  },
  {
   "cell_type": "markdown",
   "metadata": {},
   "source": [
    "<h2 dir=rtl align=right style=\"line-height:200%;font-family:vazir;color:#0099cc\">\n",
    "<font face=\"vazir\" color=\"#0099cc\">\n",
    "آموزش مدل\n",
    "</font>\n",
    "</h2>\n",
    "\n",
    "<p dir=rtl style=\"direction: rtl;text-align: justify;line-height:200%;font-family:vazir;font-size:medium\">\n",
    "<font face=\"vazir\" size=3>\n",
    "    حال که داده را پاکسازی کرده و احتمالا ویژگی‌هایی را به آن افزوده یا از آن حذف کرده‌اید، وقت آن است که مدلی آموزش دهید که بتواند متغیر هدف این مسئله را پیش‌بینی کند. در این قسمت استفاده از هر نوع مدل مربوط به یادگیری ماشین کلاسیک مجاز می‌باشد.\n",
    "    در این قسمت مدل مورد نظر باید طوری آموزش داده شود که قادر به پیش‌بینی مقادیر ستون <code>Total</code> باشد.\n",
    "</font>\n",
    "</p>"
   ]
  },
  {
   "cell_type": "code",
   "execution_count": 29,
   "metadata": {},
   "outputs": [],
   "source": [
    "# TODO:\n",
    "from sklearn.ensemble import RandomForestRegressor\n",
    "features = train_df.drop(columns=['Credit', 'Rent', 'Total'])\n",
    "credit_model = RandomForestRegressor(random_state=42)\n",
    "credit_model.fit(features, train_df['Credit'])\n",
    "rent_model = RandomForestRegressor(random_state=42)\n",
    "rent_model.fit(features, train_df['Rent'])\n",
    "train_preds = rent_model.predict(features)\n",
    "train_preds_credit = credit_model.predict(features)"
   ]
  },
  {
   "cell_type": "markdown",
   "metadata": {},
   "source": [
    "<h2 dir=rtl align=right style=\"line-height:200%;font-family:vazir;color:#0099cc\">\n",
    "<font face=\"vazir\" color=\"#0099cc\">\n",
    "معیار ارزیابی\n",
    "</font>\n",
    "</h2>\n",
    "\n",
    "<p dir=rtl style=\"direction: rtl; text-align: justify; line-height:200%; font-family:vazir; font-size:medium\">\n",
    "<font face=\"vazir\" size=3>\n",
    "    معیاری که برای ارزیابی عملکرد مدل انتخاب کرده‌ایم، <code>r2_score</code> نام دارد.\n",
    "    <br>\n",
    "    این معیار، سنجه ارزیابی کیفیت مدل شماست. به عبارت بهتر در سامانه داوری هم از همین معیار برای نمره‌دهی استفاده شده است.\n",
    "    <br>\n",
    "    پیشنهاد می‌شود با توجه به این معیار، عملکرد مدل خود را بر روی مجموعه‌ی آموزش یا اعتبارسنجی ارزیابی کنید.\n",
    "</font>\n",
    "</p>\n",
    "\n",
    "<p dir=rtl style=\"direction: rtl; text-align: justify; line-height:200%; font-family:vazir; font-size:medium\">\n",
    "<font color=\"red\"><b color='red'>توجه:</b></font>\n",
    "<font face=\"vazir\" size=3>\n",
    "    برای دریافت نمره از این سوال لازم است تا دقت مدل شما از آستانه‌ی ۰.۴ بیشتر باشد.\n",
    "    در صورتی که دقت مدل شما از ۰.۴ کمتر باشد نمره شما \n",
    "    <b>صفر</b>\n",
    "    خواهد شد و در غیر این صورت با فرمول زیر محاسبه می‌شود:\n",
    "</font>\n",
    "</p>\n"
   ]
  },
  {
   "cell_type": "code",
   "execution_count": 30,
   "metadata": {},
   "outputs": [
    {
     "data": {
      "text/plain": [
       "0.7131514824000837"
      ]
     },
     "execution_count": 30,
     "metadata": {},
     "output_type": "execute_result"
    }
   ],
   "source": [
    "from sklearn.metrics import r2_score\n",
    "y=(train_preds*33.33334)+train_preds_credit\n",
    "r2 = r2_score(y, train_df['Total'])\n",
    "r2\n",
    "# TODO:"
   ]
  },
  {
   "cell_type": "markdown",
   "metadata": {},
   "source": [
    "<h2 dir=rtl align=right style=\"line-height:200%;font-family:vazir;color:#0099cc\">\n",
    "<font face=\"vazir\" color=\"#0099cc\">\n",
    " پیش‌بینی برای داده تست و خروجی\n",
    "</font>\n",
    "</h2>\n",
    "\n",
    "<p dir=rtl style=\"direction: rtl;text-align: right;line-height:200%;font-family:vazir;font-size:medium\">\n",
    "<font face=\"vazir\" size=3>\n",
    "    پیش‌بینی مدل خود بر روی داده‌های آزمایش را در قالب یک <code>dataframe</code> در متغیری با نام <code>submission</code>ذخیره کنید.  این <code>dataframe</code> باید دارای یک ستون با نام <code>Total</code> باشد که ردیف <code>i</code>ام آن، پیش‌بینی شما برای سطر <code>i</code>ام مجموعه‌داده‌ی آزمون باشد.\n",
    "</font>\n",
    "</p>\n",
    "\n",
    "<center>\n",
    "<div dir=rtl style=\"direction: rtl;line-height:200%;font-family:vazir;font-size:medium\">\n",
    "<font face=\"vazir\" size=3>\n",
    "    \n",
    "|ستون|توضیحات|\n",
    "|------|---|\n",
    "|Total|قیمت واحد مسکونی (میلیون تومان)|\n",
    "    \n",
    "</font>\n",
    "</div>\n",
    "</center>"
   ]
  },
  {
   "cell_type": "code",
   "execution_count": 32,
   "metadata": {},
   "outputs": [
    {
     "data": {
      "text/html": [
       "<div>\n",
       "<style scoped>\n",
       "    .dataframe tbody tr th:only-of-type {\n",
       "        vertical-align: middle;\n",
       "    }\n",
       "\n",
       "    .dataframe tbody tr th {\n",
       "        vertical-align: top;\n",
       "    }\n",
       "\n",
       "    .dataframe thead th {\n",
       "        text-align: right;\n",
       "    }\n",
       "</style>\n",
       "<table border=\"1\" class=\"dataframe\">\n",
       "  <thead>\n",
       "    <tr style=\"text-align: right;\">\n",
       "      <th></th>\n",
       "      <th>Total</th>\n",
       "    </tr>\n",
       "  </thead>\n",
       "  <tbody>\n",
       "    <tr>\n",
       "      <th>0</th>\n",
       "      <td>17463.086680</td>\n",
       "    </tr>\n",
       "    <tr>\n",
       "      <th>1</th>\n",
       "      <td>492.505872</td>\n",
       "    </tr>\n",
       "    <tr>\n",
       "      <th>2</th>\n",
       "      <td>262.317063</td>\n",
       "    </tr>\n",
       "    <tr>\n",
       "      <th>3</th>\n",
       "      <td>2618.798225</td>\n",
       "    </tr>\n",
       "    <tr>\n",
       "      <th>4</th>\n",
       "      <td>643.577817</td>\n",
       "    </tr>\n",
       "    <tr>\n",
       "      <th>...</th>\n",
       "      <td>...</td>\n",
       "    </tr>\n",
       "    <tr>\n",
       "      <th>144656</th>\n",
       "      <td>392.584474</td>\n",
       "    </tr>\n",
       "    <tr>\n",
       "      <th>144657</th>\n",
       "      <td>358.250031</td>\n",
       "    </tr>\n",
       "    <tr>\n",
       "      <th>144658</th>\n",
       "      <td>9936.153290</td>\n",
       "    </tr>\n",
       "    <tr>\n",
       "      <th>144659</th>\n",
       "      <td>9668.668419</td>\n",
       "    </tr>\n",
       "    <tr>\n",
       "      <th>144660</th>\n",
       "      <td>1222.766773</td>\n",
       "    </tr>\n",
       "  </tbody>\n",
       "</table>\n",
       "<p>144661 rows × 1 columns</p>\n",
       "</div>"
      ],
      "text/plain": [
       "               Total\n",
       "0       17463.086680\n",
       "1         492.505872\n",
       "2         262.317063\n",
       "3        2618.798225\n",
       "4         643.577817\n",
       "...              ...\n",
       "144656    392.584474\n",
       "144657    358.250031\n",
       "144658   9936.153290\n",
       "144659   9668.668419\n",
       "144660   1222.766773\n",
       "\n",
       "[144661 rows x 1 columns]"
      ]
     },
     "execution_count": 32,
     "metadata": {},
     "output_type": "execute_result"
    }
   ],
   "source": [
    "# TODO:\n",
    "# To-Do\n",
    "X_test = test_df.copy()\n",
    "# X_test = test_df[X.columns] \n",
    "rf_preds = rent_model.predict(X_test)\n",
    "rf_preds2 = credit_model.predict(X_test)\n",
    "submission = pd.DataFrame({\n",
    "    'Total': (rf_preds*33.33334)+rf_preds2\n",
    "})\n",
    "submission"
   ]
  },
  {
   "cell_type": "code",
   "execution_count": 33,
   "metadata": {},
   "outputs": [
    {
     "name": "stdout",
     "output_type": "stream",
     "text": [
      "File Paths:\n",
      "['housing.ipynb', 'submission.csv']\n"
     ]
    }
   ],
   "source": [
    "import zipfile\n",
    "import joblib\n",
    "import os\n",
    "\n",
    "if not os.path.exists(os.path.join(os.getcwd(), 'housing.ipynb')):\n",
    "    %notebook -e housing.ipynb\n",
    "\n",
    "def compress(file_names):\n",
    "    print(\"File Paths:\")\n",
    "    print(file_names)\n",
    "    compression = zipfile.ZIP_DEFLATED\n",
    "    with zipfile.ZipFile(\"result.zip\", mode=\"w\") as zf:\n",
    "        for file_name in file_names:\n",
    "            zf.write('./' + file_name, file_name, compress_type=compression)\n",
    "\n",
    "submission.to_csv('submission.csv', index=False)\n",
    "file_names = ['housing.ipynb', 'submission.csv']\n",
    "compress(file_names)"
   ]
  }
 ],
 "metadata": {
  "kernelspec": {
   "display_name": "Python 3",
   "language": "python",
   "name": "python3"
  },
  "language_info": {
   "codemirror_mode": {
    "name": "ipython",
    "version": 3
   },
   "file_extension": ".py",
   "mimetype": "text/x-python",
   "name": "python",
   "nbconvert_exporter": "python",
   "pygments_lexer": "ipython3",
   "version": "3.12.4"
  }
 },
 "nbformat": 4,
 "nbformat_minor": 2
}
